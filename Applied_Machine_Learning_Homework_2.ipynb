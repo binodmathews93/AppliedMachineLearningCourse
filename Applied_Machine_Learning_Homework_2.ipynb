{
  "nbformat": 4,
  "nbformat_minor": 0,
  "metadata": {
    "colab": {
      "name": "Applied Machine Learning Homework 2.ipynb",
      "provenance": [],
      "authorship_tag": "ABX9TyNNr69E15+sQ3JLckfYC5HG",
      "include_colab_link": true
    },
    "kernelspec": {
      "name": "python3",
      "display_name": "Python 3"
    }
  },
  "cells": [
    {
      "cell_type": "markdown",
      "metadata": {
        "id": "view-in-github",
        "colab_type": "text"
      },
      "source": [
        "<a href=\"https://colab.research.google.com/github/binodmathews93/AppliedMachineLearningCourse/blob/master/Applied_Machine_Learning_Homework_2.ipynb\" target=\"_parent\"><img src=\"https://colab.research.google.com/assets/colab-badge.svg\" alt=\"Open In Colab\"/></a>"
      ]
    },
    {
      "cell_type": "code",
      "metadata": {
        "id": "3R8f1wYJ1-VO",
        "outputId": "83e01188-4a55-403b-a0a8-9d503d9ef349",
        "colab": {
          "base_uri": "https://localhost:8080/",
          "height": 292
        }
      },
      "source": [
        "# Convert to a DataFrame.\n",
        "import pandas as pd\n",
        "from sklearn.datasets import fetch_openml\n",
        "\n",
        "df = fetch_openml('credit-g', as_frame=True).frame\n",
        "df.head(5)"
      ],
      "execution_count": 1,
      "outputs": [
        {
          "output_type": "execute_result",
          "data": {
            "text/html": [
              "<div>\n",
              "<style scoped>\n",
              "    .dataframe tbody tr th:only-of-type {\n",
              "        vertical-align: middle;\n",
              "    }\n",
              "\n",
              "    .dataframe tbody tr th {\n",
              "        vertical-align: top;\n",
              "    }\n",
              "\n",
              "    .dataframe thead th {\n",
              "        text-align: right;\n",
              "    }\n",
              "</style>\n",
              "<table border=\"1\" class=\"dataframe\">\n",
              "  <thead>\n",
              "    <tr style=\"text-align: right;\">\n",
              "      <th></th>\n",
              "      <th>checking_status</th>\n",
              "      <th>duration</th>\n",
              "      <th>credit_history</th>\n",
              "      <th>purpose</th>\n",
              "      <th>credit_amount</th>\n",
              "      <th>savings_status</th>\n",
              "      <th>employment</th>\n",
              "      <th>installment_commitment</th>\n",
              "      <th>personal_status</th>\n",
              "      <th>other_parties</th>\n",
              "      <th>residence_since</th>\n",
              "      <th>property_magnitude</th>\n",
              "      <th>age</th>\n",
              "      <th>other_payment_plans</th>\n",
              "      <th>housing</th>\n",
              "      <th>existing_credits</th>\n",
              "      <th>job</th>\n",
              "      <th>num_dependents</th>\n",
              "      <th>own_telephone</th>\n",
              "      <th>foreign_worker</th>\n",
              "      <th>class</th>\n",
              "    </tr>\n",
              "  </thead>\n",
              "  <tbody>\n",
              "    <tr>\n",
              "      <th>0</th>\n",
              "      <td>&lt;0</td>\n",
              "      <td>6.0</td>\n",
              "      <td>critical/other existing credit</td>\n",
              "      <td>radio/tv</td>\n",
              "      <td>1169.0</td>\n",
              "      <td>no known savings</td>\n",
              "      <td>&gt;=7</td>\n",
              "      <td>4.0</td>\n",
              "      <td>male single</td>\n",
              "      <td>none</td>\n",
              "      <td>4.0</td>\n",
              "      <td>real estate</td>\n",
              "      <td>67.0</td>\n",
              "      <td>none</td>\n",
              "      <td>own</td>\n",
              "      <td>2.0</td>\n",
              "      <td>skilled</td>\n",
              "      <td>1.0</td>\n",
              "      <td>yes</td>\n",
              "      <td>yes</td>\n",
              "      <td>good</td>\n",
              "    </tr>\n",
              "    <tr>\n",
              "      <th>1</th>\n",
              "      <td>0&lt;=X&lt;200</td>\n",
              "      <td>48.0</td>\n",
              "      <td>existing paid</td>\n",
              "      <td>radio/tv</td>\n",
              "      <td>5951.0</td>\n",
              "      <td>&lt;100</td>\n",
              "      <td>1&lt;=X&lt;4</td>\n",
              "      <td>2.0</td>\n",
              "      <td>female div/dep/mar</td>\n",
              "      <td>none</td>\n",
              "      <td>2.0</td>\n",
              "      <td>real estate</td>\n",
              "      <td>22.0</td>\n",
              "      <td>none</td>\n",
              "      <td>own</td>\n",
              "      <td>1.0</td>\n",
              "      <td>skilled</td>\n",
              "      <td>1.0</td>\n",
              "      <td>none</td>\n",
              "      <td>yes</td>\n",
              "      <td>bad</td>\n",
              "    </tr>\n",
              "    <tr>\n",
              "      <th>2</th>\n",
              "      <td>no checking</td>\n",
              "      <td>12.0</td>\n",
              "      <td>critical/other existing credit</td>\n",
              "      <td>education</td>\n",
              "      <td>2096.0</td>\n",
              "      <td>&lt;100</td>\n",
              "      <td>4&lt;=X&lt;7</td>\n",
              "      <td>2.0</td>\n",
              "      <td>male single</td>\n",
              "      <td>none</td>\n",
              "      <td>3.0</td>\n",
              "      <td>real estate</td>\n",
              "      <td>49.0</td>\n",
              "      <td>none</td>\n",
              "      <td>own</td>\n",
              "      <td>1.0</td>\n",
              "      <td>unskilled resident</td>\n",
              "      <td>2.0</td>\n",
              "      <td>none</td>\n",
              "      <td>yes</td>\n",
              "      <td>good</td>\n",
              "    </tr>\n",
              "    <tr>\n",
              "      <th>3</th>\n",
              "      <td>&lt;0</td>\n",
              "      <td>42.0</td>\n",
              "      <td>existing paid</td>\n",
              "      <td>furniture/equipment</td>\n",
              "      <td>7882.0</td>\n",
              "      <td>&lt;100</td>\n",
              "      <td>4&lt;=X&lt;7</td>\n",
              "      <td>2.0</td>\n",
              "      <td>male single</td>\n",
              "      <td>guarantor</td>\n",
              "      <td>4.0</td>\n",
              "      <td>life insurance</td>\n",
              "      <td>45.0</td>\n",
              "      <td>none</td>\n",
              "      <td>for free</td>\n",
              "      <td>1.0</td>\n",
              "      <td>skilled</td>\n",
              "      <td>2.0</td>\n",
              "      <td>none</td>\n",
              "      <td>yes</td>\n",
              "      <td>good</td>\n",
              "    </tr>\n",
              "    <tr>\n",
              "      <th>4</th>\n",
              "      <td>&lt;0</td>\n",
              "      <td>24.0</td>\n",
              "      <td>delayed previously</td>\n",
              "      <td>new car</td>\n",
              "      <td>4870.0</td>\n",
              "      <td>&lt;100</td>\n",
              "      <td>1&lt;=X&lt;4</td>\n",
              "      <td>3.0</td>\n",
              "      <td>male single</td>\n",
              "      <td>none</td>\n",
              "      <td>4.0</td>\n",
              "      <td>no known property</td>\n",
              "      <td>53.0</td>\n",
              "      <td>none</td>\n",
              "      <td>for free</td>\n",
              "      <td>2.0</td>\n",
              "      <td>skilled</td>\n",
              "      <td>2.0</td>\n",
              "      <td>none</td>\n",
              "      <td>yes</td>\n",
              "      <td>bad</td>\n",
              "    </tr>\n",
              "  </tbody>\n",
              "</table>\n",
              "</div>"
            ],
            "text/plain": [
              "  checking_status  duration  ... foreign_worker class\n",
              "0              <0       6.0  ...            yes  good\n",
              "1        0<=X<200      48.0  ...            yes   bad\n",
              "2     no checking      12.0  ...            yes  good\n",
              "3              <0      42.0  ...            yes  good\n",
              "4              <0      24.0  ...            yes   bad\n",
              "\n",
              "[5 rows x 21 columns]"
            ]
          },
          "metadata": {
            "tags": []
          },
          "execution_count": 1
        }
      ]
    },
    {
      "cell_type": "code",
      "metadata": {
        "id": "9vOS5Yux4nkX",
        "outputId": "4fa2199f-1d5f-4c5c-a258-9dd61be764aa",
        "colab": {
          "base_uri": "https://localhost:8080/"
        }
      },
      "source": [
        "df.dtypes"
      ],
      "execution_count": null,
      "outputs": [
        {
          "output_type": "execute_result",
          "data": {
            "text/plain": [
              "checking_status           category\n",
              "duration                   float64\n",
              "credit_history            category\n",
              "purpose                   category\n",
              "credit_amount              float64\n",
              "savings_status            category\n",
              "employment                category\n",
              "installment_commitment     float64\n",
              "personal_status           category\n",
              "other_parties             category\n",
              "residence_since            float64\n",
              "property_magnitude        category\n",
              "age                        float64\n",
              "other_payment_plans       category\n",
              "housing                   category\n",
              "existing_credits           float64\n",
              "job                       category\n",
              "num_dependents             float64\n",
              "own_telephone             category\n",
              "foreign_worker            category\n",
              "class                     category\n",
              "dtype: object"
            ]
          },
          "metadata": {
            "tags": []
          },
          "execution_count": 2
        }
      ]
    },
    {
      "cell_type": "markdown",
      "metadata": {
        "id": "UAUL5wo06M6G"
      },
      "source": [
        "# **Features that are categorical and those that are Continuous**\n",
        "\n",
        "Category - checking_status, credit_history , purpose , savings_status , employment , installment_commitment, personal_status , other_parties , residence_since , property_magnitude , other_payment_plans ,housing , existing_credits, job , num_dependents , own_telephone , foreign_worker , class\n",
        "\n",
        "Continuous - duration, credit_amount , age"
      ]
    },
    {
      "cell_type": "code",
      "metadata": {
        "id": "_dGk87LZAaeN",
        "outputId": "6a211880-55e8-41b9-f958-b959d261ae27",
        "colab": {
          "base_uri": "https://localhost:8080/",
          "height": 775
        }
      },
      "source": [
        "import matplotlib.pyplot as plt\n",
        "\n",
        "fig = plt.figure(figsize=(12, 12))\n",
        "st = fig.suptitle(\"univariate distributions and target distribution\", fontsize=20)\n",
        "\n",
        "# Using columns that we need for this plot\n",
        "nfeatures = df[['duration', 'credit_amount' , 'age']]\n",
        "target = df['class']\n",
        "\n",
        "# creating 4x4 grid\n",
        "grid = plt.GridSpec(4, 4, hspace=0.4, wspace=0.4)\n",
        "\n",
        "# creating the normal plots in grid 1 , 2 ,3 and 4\n",
        "p1 = fig.add_subplot(grid[:2,:2])\n",
        "p2 = fig.add_subplot(grid[:2,2:])\n",
        "p3 = fig.add_subplot(grid[2:,:2])\n",
        "p4 = fig.add_subplot(grid[2:,2:])\n",
        "\n",
        "p1.hist(nfeatures['duration'])\n",
        "p2.hist(nfeatures['credit_amount'])\n",
        "p3.hist(nfeatures['age'])\n",
        "p4.hist(target)\n",
        "\n",
        "p1.set_xlabel('duration')\n",
        "p2.set_xlabel('credit_amount')\n",
        "p3.set_xlabel('age')\n",
        "p4.set_xlabel('class')\n",
        "# customizing to look neat\n",
        "st.set_y(0.95)\n",
        "fig.subplots_adjust(top=0.92)"
      ],
      "execution_count": 2,
      "outputs": [
        {
          "output_type": "display_data",
          "data": {
            "image/png": "[encoded data removed]",
            "text/plain": [
              "<Figure size 864x864 with 4 Axes>"
            ]
          },
          "metadata": {
            "tags": [],
            "needs_background": "light"
          }
        }
      ]
    },
    {
      "cell_type": "code",
      "metadata": {
        "id": "TZdF8cAWQjOD",
        "outputId": "dd6ea36f-4b98-43bb-c7f2-f85eae444881",
        "colab": {
          "base_uri": "https://localhost:8080/",
          "height": 34
        }
      },
      "source": [
        "# 1.3\n",
        "\n",
        "from sklearn.model_selection import train_test_split\n",
        "\n",
        "columns = [column for column  in df.columns if column != 'class']\n",
        "X = df[columns]\n",
        "y = df['class']\n",
        "\n",
        "\n",
        "X_train, X_test, y_train, y_test = train_test_split(X, y, test_size=0.3 ,random_state=11)\n",
        "#X_train , y_train , X_valid , y_valid = train_test_split(X,) \n",
        "# basic preprocessing on train sets\n",
        "# numeric_columns = ['duration','credit_amount' , 'installment_commitment' , 'residence_since' , 'age' ,'existing_credits' , 'num_dependents' ]\n",
        "numeric_columns = df.select_dtypes(include=['float64']).columns\n",
        "categorical_columns = [column for column in columns if column not in numeric_columns]\n",
        "temp = X_train[categorical_columns]\n",
        "X_train_ohe = pd.concat([pd.get_dummies(temp),X_train[numeric_columns]],axis=1)\n",
        "\n",
        "from sklearn.linear_model import LogisticRegression\n",
        "from sklearn.model_selection import cross_val_score\n",
        "lr = LogisticRegression(max_iter=1000)\n",
        "\n",
        "cr = cross_val_score(lr,X_train_ohe,y_train)\n",
        "\n",
        "print(cr)\n",
        "\n",
        "\n"
      ],
      "execution_count": 3,
      "outputs": [
        {
          "output_type": "stream",
          "text": [
            "[0.77857143 0.75       0.71428571 0.76428571 0.74285714]\n"
          ],
          "name": "stdout"
        }
      ]
    },
    {
      "cell_type": "code",
      "metadata": {
        "id": "3teaue3Ua_zY",
        "outputId": "b711adb7-aee5-47c3-aee3-a3bc52354fb3",
        "colab": {
          "base_uri": "https://localhost:8080/",
          "height": 119
        }
      },
      "source": [
        "#1.4\n",
        "\n",
        "from sklearn.compose import ColumnTransformer\n",
        "from sklearn.pipeline import Pipeline\n",
        "from sklearn.preprocessing import OneHotEncoder\n",
        "from sklearn.preprocessing import StandardScaler\n",
        "from sklearn.svm import LinearSVC\n",
        "from sklearn.neighbors import KNeighborsClassifier\n",
        "\n",
        "# define the data preparation for the categorical columns\n",
        "t1 = [('cat', OneHotEncoder(), categorical_columns)]\n",
        "col_transform = ColumnTransformer(transformers=t1)\n",
        "# define the models\n",
        "models = {'lr_model':LogisticRegression(max_iter=1000), 'lsvm_model':LinearSVC(max_iter=2500) , 'knn_model':KNeighborsClassifier()}\n",
        "\n",
        "for name,model in models.items():\n",
        "  # define the data preparation and modeling pipeline\n",
        "  pipeline = Pipeline(steps=[('prep',col_transform), ('m', model)])\n",
        "  # define the model cross-validation configuration\n",
        "  #cv = KFold(n_splits=10, shuffle=True, random_state=1)\n",
        "  # evaluate the pipeline using cross validation and calculate MAE\n",
        "  score = cross_val_score(pipeline, X_train, y_train)\n",
        "  print(name ,score.mean())\n",
        "\n",
        "# define the data preparation for the categorical columns and numeric columns\n",
        "t2 = [('cat', OneHotEncoder(), categorical_columns), ('num', StandardScaler(), numeric_columns)]\n",
        "col_transform = ColumnTransformer(transformers=t2)\n",
        "# try with new column transformer\n",
        "for name,model in models.items():\n",
        "  # define the data preparation and modeling pipeline\n",
        "  pipeline = Pipeline(steps=[('prep',col_transform), ('m', model)])\n",
        "  # define the model cross-validation configuration\n",
        "  #cv = KFold(n_splits=10, shuffle=True, random_state=1)\n",
        "  # evaluate the pipeline using cross validation and calculate MAE\n",
        "  score = cross_val_score(pipeline, X_train, y_train)\n",
        "  print(name ,score.mean())"
      ],
      "execution_count": 7,
      "outputs": [
        {
          "output_type": "stream",
          "text": [
            "lr_model 0.7485714285714286\n",
            "lsvm_model 0.7442857142857143\n",
            "knn_model 0.71\n",
            "lr_model 0.75\n",
            "lsvm_model 0.7542857142857142\n",
            "knn_model 0.7342857142857143\n"
          ],
          "name": "stdout"
        }
      ]
    },
    {
      "cell_type": "code",
      "metadata": {
        "id": "jJGKt4WqlRFo",
        "outputId": "d1ea3110-62ec-498c-f842-c10489ff6e85",
        "colab": {
          "base_uri": "https://localhost:8080/",
          "height": 819
        }
      },
      "source": [
        "#1.5\n",
        "\n",
        "from sklearn.model_selection import GridSearchCV\n",
        "from sklearn.metrics import f1_score\n",
        "from sklearn.metrics import make_scorer\n",
        "\n",
        "f1_scorer = make_scorer(f1_score, pos_label=\"bad\")\n",
        "\n",
        "# 'prep__num__with_mean': [True, False],\n",
        "# 'prep__num__with_std': [True, False],\n",
        "param_grid = {\n",
        "    'm__C': [0.1, 1.0 , 0.01],\n",
        "    }\n",
        "\n",
        "param_grid_knn = {\n",
        "    'm__n_neighbors': [5, 10 , 15],\n",
        "    }\n",
        "\n",
        "for name,model in models.items():\n",
        "  # define the data preparation and modeling pipeline\n",
        "  pipeline = Pipeline(steps=[('prep',col_transform), ('m', model)])\n",
        "  # define the model cross-validation configuration\n",
        "  #cv = KFold(n_splits=10, shuffle=True, random_state=1)\n",
        "  # evaluate the pipeline using cross validation and calculate MAE\n",
        "  if name == 'knn_model':\n",
        "      grid_clf = GridSearchCV(pipeline, param_grid_knn, cv=5, scoring=f1_scorer )\n",
        "  else:\n",
        "      grid_clf = GridSearchCV(pipeline, param_grid, cv=5, scoring=f1_scorer)\n",
        "  grid_clf.fit(X_train, y_train)\n",
        "  print(name,grid_clf.best_params_)\n",
        "  print(name, grid_clf.best_estimator_.score(X_test, y_test))\n",
        "\n",
        "lr_array = []\n",
        "lr_c = [0.01,0.1,1]\n",
        "\n",
        "for c in lr_c:\n",
        "  pipeline = Pipeline(steps=[('prep',col_transform), ('m', LogisticRegression(max_iter=1000, C=c))])\n",
        "  pipeline.fit(X_train,y_train)\n",
        "  y_hat = pipeline.predict(X_train)\n",
        "  lr_array.append(f1_score(y_train,y_hat,pos_label=\"bad\"))\n",
        "\n",
        "\n",
        "lsvm_array = []\n",
        "lsvm_c = [0.01,0.1,1]\n",
        "\n",
        "for c in lsvm_c:\n",
        "  pipeline = Pipeline(steps=[('prep',col_transform), ('m', LinearSVC(dual=True,max_iter=2500,C=c))])\n",
        "  pipeline.fit(X_train,y_train)\n",
        "  y_hat = pipeline.predict(X_train)\n",
        "  lsvm_array.append(f1_score(y_train,y_hat,pos_label=\"bad\"))\n",
        "\n",
        "\n",
        "knn_array = []\n",
        "knn_n = [5,10,15]\n",
        "\n",
        "for n in knn_n:\n",
        "  pipeline = Pipeline(steps=[('prep',col_transform), ('m', KNeighborsClassifier(n_neighbors=n))])\n",
        "  pipeline.fit(X_train,y_train)\n",
        "  y_hat = pipeline.predict(X_train)\n",
        "  knn_array.append(f1_score(y_train,y_hat,pos_label=\"bad\"))\n",
        "\n",
        "fig = plt.figure(figsize=(12, 12))\n",
        "# creating 3x1 grid\n",
        "grid = plt.GridSpec(3, 1, hspace=0.4, wspace=0.4)\n",
        "\n",
        "# creating the normal plots in grid 1 , 2 ,3\n",
        "p1 = fig.add_subplot(grid[0,:])\n",
        "p2 = fig.add_subplot(grid[1,:])\n",
        "p3 = fig.add_subplot(grid[2,:])\n",
        "\n",
        "p1.scatter(lr_c,lr_array)\n",
        "p2.scatter(lsvm_c,lsvm_array)\n",
        "p3.scatter(knn_n,knn_array)\n"
      ],
      "execution_count": 17,
      "outputs": [
        {
          "output_type": "stream",
          "text": [
            "lr_model {'m__C': 1.0}\n",
            "lr_model 0.7333333333333333\n",
            "lsvm_model {'m__C': 1.0}\n",
            "lsvm_model 0.7266666666666667\n",
            "knn_model {'m__n_neighbors': 10}\n",
            "knn_model 0.7066666666666667\n"
          ],
          "name": "stdout"
        },
        {
          "output_type": "execute_result",
          "data": {
            "text/plain": [
              "<matplotlib.collections.PathCollection at 0x7f0e1bc3bcc0>"
            ]
          },
          "metadata": {
            "tags": []
          },
          "execution_count": 17
        },
        {
          "output_type": "display_data",
          "data": {
            "image/png": "[encoded data removed]",
            "text/plain": [
              "<Figure size 864x864 with 3 Axes>"
            ]
          },
          "metadata": {
            "tags": [],
            "needs_background": "light"
          }
        }
      ]
    }
  ]
}